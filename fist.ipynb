{
 "cells": [
  {
   "cell_type": "code",
   "execution_count": 36,
   "id": "e0184ae4",
   "metadata": {},
   "outputs": [],
   "source": [
    "import pandas as pd\n",
    "\n",
    "def normalizeCSV(fileName):\n",
    "    with open(fileName , \"r\") as file:\n",
    "        inputFilelines = file.readlines()\n",
    "        with open(fileName , \"w\") as file:\n",
    "            for line in inputFilelines:\n",
    "                if line != \"\\n\" and line != \"[Name]\\n\" and line != \"WALL\\n\" and line != \"\\n\" and line != \"[Data]\\n\":\n",
    "                    file.write(line)\n",
    "    file.close()\n",
    "\n",
    "for i in range(732):\n",
    "    normalizeCSV(f\"Wall/export_{i}.csv\")"
   ]
  },
  {
   "cell_type": "code",
   "execution_count": 17,
   "id": "f4b42efe",
   "metadata": {},
   "outputs": [
    {
     "name": "stdout",
     "output_type": "stream",
     "text": [
      "{'Node 0': 0.0055959152445393305}\n",
      "{'Node 0': 0.49110416212006214}\n",
      "{'Node 0': 4.9780354805294724e-05}\n"
     ]
    }
   ],
   "source": [
    "def tawssCalculation(wss , nodeNumber):\n",
    "    result = 0\n",
    "    for i in range(732):\n",
    "        df = pd.read_csv(f\"Wall/export_{i}.csv\")\n",
    "        result += df[wss][nodeNumber]\n",
    "    return result / 731\n",
    "\n",
    "def Calculation(nodeNumbers):\n",
    "    tawssValues = {}\n",
    "    osiValues = {}\n",
    "    holmesValues = {}\n",
    "    for nodeIndex in range(nodeNumbers):\n",
    "            tawssValues[f\"Node {nodeIndex}\"] = tawssCalculation(\" Wall Shear [ kPa ]\" , nodeIndex)\n",
    "            \n",
    "            x = tawssCalculation(\" Wall Shear X [ kPa ]\" , nodeIndex)\n",
    "            y = tawssCalculation(\" Wall Shear Y [ kPa ]\" , nodeIndex)\n",
    "            z = tawssCalculation(\" Wall Shear Z [ kPa ]\" , nodeIndex)\n",
    "            \n",
    "            osiValues[f\"Node {nodeIndex}\"] = (1 - ((x ** 2 + y ** 2 + z ** 2) ** 0.5) / tawssValues[f\"Node {nodeIndex}\"]) * 0.5\n",
    "            \n",
    "            holmesValues[f\"Node {nodeIndex}\"] = tawssValues[f\"Node {nodeIndex}\"] * (0.5 - osiValues[f\"Node {nodeIndex}\"])\n",
    "    \n",
    "    print(tawssValues)\n",
    "    print(osiValues)\n",
    "    print(holmesValues)\n",
    "\n",
    "Calculation(1)"
   ]
  },
  {
   "cell_type": "code",
   "execution_count": null,
   "id": "b9d71b19",
   "metadata": {},
   "outputs": [],
   "source": []
  }
 ],
 "metadata": {
  "kernelspec": {
   "display_name": "Python 3 (ipykernel)",
   "language": "python",
   "name": "python3"
  },
  "language_info": {
   "codemirror_mode": {
    "name": "ipython",
    "version": 3
   },
   "file_extension": ".py",
   "mimetype": "text/x-python",
   "name": "python",
   "nbconvert_exporter": "python",
   "pygments_lexer": "ipython3",
   "version": "3.11.4"
  }
 },
 "nbformat": 4,
 "nbformat_minor": 5
}
